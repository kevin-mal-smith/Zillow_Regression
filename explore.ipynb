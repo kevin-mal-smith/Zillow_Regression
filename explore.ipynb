{
 "cells": [
  {
   "cell_type": "code",
   "execution_count": 1,
   "id": "3c9d037b",
   "metadata": {},
   "outputs": [],
   "source": [
    "import matplotlib.pyplot as plt\n",
    "from pydataset import data\n",
    "from datetime import date\n",
    "import pandas as pd\n",
    "import numpy as np\n",
    "from scipy import stats\n",
    "import seaborn as sns\n",
    "import wrangle\n",
    "import explore\n",
    "import warnings\n",
    "warnings.filterwarnings(\"ignore\")\n",
    "from sklearn.preprocessing import RobustScaler, MinMaxScaler, QuantileTransformer,PolynomialFeatures\n",
    "from sklearn.feature_selection import SelectKBest, f_regression, RFE\n",
    "from sklearn.linear_model import LinearRegression, LassoLars, TweedieRegressor\n",
    "from sklearn.model_selection import train_test_split\n",
    "from sklearn.experimental import enable_iterative_imputer\n",
    "from sklearn.impute import IterativeImputer\n",
    "from sklearn.metrics import mean_squared_error"
   ]
  },
  {
   "cell_type": "code",
   "execution_count": 2,
   "id": "467ce879",
   "metadata": {},
   "outputs": [
    {
     "name": "stdout",
     "output_type": "stream",
     "text": [
      "(52441, 8)\n"
     ]
    }
   ],
   "source": [
    "df = wrangle.wrangle_zillow()"
   ]
  },
  {
   "cell_type": "code",
   "execution_count": 3,
   "id": "5f9567f0",
   "metadata": {},
   "outputs": [],
   "source": [
    "la,oc,ventura = wrangle.county_split(df)"
   ]
  },
  {
   "cell_type": "markdown",
   "id": "1e9d8ff7",
   "metadata": {},
   "source": [
    "### are bedrooms and bathrooms dependent?\n",
    "- H0 they are not dependent\n",
    "- Ha they are dependent"
   ]
  },
  {
   "cell_type": "code",
   "execution_count": 5,
   "id": "b0e96ca6",
   "metadata": {},
   "outputs": [],
   "source": [
    "def bed_bath_test(df):\n",
    "    bedrooms = df.bedrooms\n",
    "    bathrooms = df.bathrooms\n",
    "    print(bedrooms.var())\n",
    "    print(bathrooms.var())\n",
    "    t, p = stats.ttest_ind(bedrooms, bathrooms)\n",
    "    if p <.05:\n",
    "        df['bed_bath'] = df.bedrooms + df.bathrooms\n",
    "        print(f'Our confidence is {(1-p):.0%} that the variables are dependent. We reject the null hypothesis.')\n",
    "    else:\n",
    "        print('we cannot reject null hypothesis')\n",
    "        \n",
    "    plt.figure(figsize=(15,5))\n",
    "    plt.subplot(121)\n",
    "    plt.hist(bedrooms,bins=5)\n",
    "    plt.title('Bedrooms')\n",
    "    plt.subplot(122)\n",
    "    plt.hist(bathrooms,bins=5)\n",
    "    plt.title('bathrooms')\n",
    "    plt.show"
   ]
  },
  {
   "cell_type": "code",
   "execution_count": null,
   "id": "b52fb610",
   "metadata": {},
   "outputs": [],
   "source": [
    "def split(df):    \n",
    "    train, test = train_test_split(df, random_state=123)\n",
    "    train, validate = train_test_split(train)\n",
    "    return(train,validate,test)"
   ]
  },
  {
   "cell_type": "code",
   "execution_count": null,
   "id": "1ecacc6b",
   "metadata": {},
   "outputs": [],
   "source": [
    "la_train, la_validate, la_test = split(la)\n",
    "oc_train, oc_validate, oc_test = split(oc)\n",
    "ven_train, ven_validate, ven_test = split(ventura)"
   ]
  },
  {
   "cell_type": "code",
   "execution_count": null,
   "id": "ed22958d",
   "metadata": {},
   "outputs": [],
   "source": [
    "bed_bath_test(la_train)\n",
    "la_train=la_train.drop(columns=['bedrooms','bathrooms'])\n",
    "la_validate=la_validate.drop(columns=['bedrooms','bathrooms'])\n",
    "la_test=la_test.drop(columns=['bedrooms','bathrooms'])"
   ]
  },
  {
   "cell_type": "code",
   "execution_count": null,
   "id": "04ba7d78",
   "metadata": {},
   "outputs": [],
   "source": [
    "bed_bath_test(oc_train)\n",
    "oc_train=oc_train.drop(columns=['bedrooms','bathrooms'])\n",
    "oc_validate=oc_validate.drop(columns=['bedrooms','bathrooms'])\n",
    "oc_test=oc_test.drop(columns=['bedrooms','bathrooms'])"
   ]
  },
  {
   "cell_type": "code",
   "execution_count": null,
   "id": "3e83eb3b",
   "metadata": {},
   "outputs": [],
   "source": [
    "bed_bath_test(ven_train)\n",
    "ven_train=ven_train.drop(columns=['bedrooms','bathrooms'])\n",
    "ven_validate=ven_validate.drop(columns=['bedrooms','bathrooms'])\n",
    "ven_test=ven_test.drop(columns=['bedrooms','bathrooms'])"
   ]
  },
  {
   "cell_type": "code",
   "execution_count": null,
   "id": "fc8098df",
   "metadata": {},
   "outputs": [],
   "source": [
    "print(la_train.corr())\n",
    "print(oc_train.corr())\n",
    "print(ven_train.corr())"
   ]
  },
  {
   "cell_type": "code",
   "execution_count": null,
   "id": "1e7d8c37",
   "metadata": {
    "scrolled": true
   },
   "outputs": [],
   "source": [
    "plt.figure(figsize=(15,5))\n",
    "plt.subplot(131)\n",
    "plt.hist(la_train.tax_value,bins=100)\n",
    "plt.title('la prices')\n",
    "plt.subplot(132)\n",
    "plt.hist(oc_train.tax_value,bins=100)\n",
    "plt.title('oc prices')\n",
    "plt.subplot(133)\n",
    "plt.hist(ven_train.tax_value,bins=100)\n",
    "plt.title('ventura prices')\n",
    "plt.show"
   ]
  },
  {
   "cell_type": "code",
   "execution_count": null,
   "id": "fea5e53e",
   "metadata": {
    "scrolled": true
   },
   "outputs": [],
   "source": [
    "plt.figure(figsize=(12, 6))\n",
    "sns.lineplot(data=la_train, y='tax_value',x='quality', color='red')\n",
    "sns.lineplot(data=oc_train, y='tax_value',x='quality',color='blue')\n",
    "sns.lineplot(data=ven_train, y='tax_value',x='quality',color='green')\n",
    "plt.title('quality has a decent impact on value')\n",
    "plt.show()"
   ]
  },
  {
   "cell_type": "code",
   "execution_count": null,
   "id": "498dab4c",
   "metadata": {},
   "outputs": [],
   "source": [
    "plt.figure(figsize=(12, 6))\n",
    "sns.lineplot(data=la_train, y='tax_value',x='bed_bath', color='red')\n",
    "sns.lineplot(data=oc_train, y='tax_value',x='bed_bath',color='blue')\n",
    "sns.lineplot(data=ven_train, y='tax_value',x='bed_bath',color='green')\n",
    "plt.title('bed_bath has a decent impact on value')\n",
    "plt.show()\n"
   ]
  },
  {
   "cell_type": "code",
   "execution_count": null,
   "id": "dbe94a4b",
   "metadata": {},
   "outputs": [],
   "source": [
    "plt.figure(figsize=(12, 6))\n",
    "sns.lineplot(data=la_train, y='tax_value',x='age', color='red')\n",
    "sns.lineplot(data=oc_train, y='tax_value',x='age',color='blue')\n",
    "sns.lineplot(data=ven_train, y='tax_value',x='age',color='green')\n",
    "plt.title('age has little impact on value')\n",
    "plt.show()"
   ]
  }
 ],
 "metadata": {
  "kernelspec": {
   "display_name": "Python 3 (ipykernel)",
   "language": "python",
   "name": "python3"
  },
  "language_info": {
   "codemirror_mode": {
    "name": "ipython",
    "version": 3
   },
   "file_extension": ".py",
   "mimetype": "text/x-python",
   "name": "python",
   "nbconvert_exporter": "python",
   "pygments_lexer": "ipython3",
   "version": "3.9.7"
  }
 },
 "nbformat": 4,
 "nbformat_minor": 5
}
